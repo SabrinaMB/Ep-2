{
 "cells": [
  {
   "cell_type": "markdown",
   "metadata": {},
   "source": [
    "Importar e Abrir o arquivo pokedex.json"
   ]
  },
  {
   "cell_type": "code",
   "execution_count": 13,
   "metadata": {
    "collapsed": false
   },
   "outputs": [],
   "source": [
    "import random as rdm\n",
    "import json\n",
    "\n",
    "with open('pokedex1.json') as arquivo: \n",
    "    pokedex1 = json.load(arquivo)"
   ]
  },
  {
   "cell_type": "markdown",
   "metadata": {
    "collapsed": true
   },
   "source": [
    "Criando a pokedex do usuario"
   ]
  },
  {
   "cell_type": "code",
   "execution_count": 14,
   "metadata": {
    "collapsed": true
   },
   "outputs": [],
   "source": [
    "suapokedex = [\n",
    "        {\n",
    "        \"nome\" : \"Pancham\",\n",
    "        \"tipo\" : \"Lutador\",\n",
    "        \"PS\" : 3,\n",
    "        \"ataque\" : 4,\n",
    "        \"defesa\" : 3,\n",
    "        \"ataque especial\" : 2,\n",
    "        \"defesa especial\" : 2,\n",
    "        \"velocidade\" : 2\n",
    "        }\n",
    "]"
   ]
  },
  {
   "cell_type": "markdown",
   "metadata": {},
   "source": [
    "cada ps sao 3 vidinhas .:. neste caso, aq de cima, ele tem 9 vidas :D"
   ]
  },
  {
   "cell_type": "markdown",
   "metadata": {},
   "source": [
    "Mostrando o pokemon dele"
   ]
  },
  {
   "cell_type": "code",
   "execution_count": 16,
   "metadata": {
    "collapsed": false
   },
   "outputs": [
    {
     "name": "stdout",
     "output_type": "stream",
     "text": [
      "\n",
      "Voce comeca com o pokemon Pancham!! \n",
      "Ele é do tipo Lutador e tem:\n",
      "9 pontos de vida;\n",
      "4 de poder de ataque;\n",
      "3 de defesa;\n",
      "2 de ataque especial;\n",
      "2 de defesa especial;\n",
      "2 de velocidade!\n"
     ]
    }
   ],
   "source": [
    "\n",
    "\n",
    "print('\\nVoce comeca com o pokemon {0}!! \\nEle é do tipo {1} e tem:\\n{2} pontos de vida;\\n{3} de poder de ataque;\\n{4} de defesa;\\n{5} de ataque especial;\\n{6} de defesa especial;\\n{7} de velocidade!'.format(suapokedex[0]['nome'],suapokedex[0]['tipo'],suapokedex[0]['PS']*3,suapokedex[0]['ataque'],suapokedex[0]['defesa'],suapokedex[0]['ataque especial'],suapokedex[0]['defesa especial'],suapokedex[0]['velocidade']))\n",
    "\n"
   ]
  },
  {
   "cell_type": "code",
   "execution_count": null,
   "metadata": {
    "collapsed": true
   },
   "outputs": [],
   "source": [
    "def suafuncaobatalha(suavida,caraataque,suadefesa):\n",
    "    suavida = suavida - (caraataque - suadefesa)\n",
    "    return suavida"
   ]
  },
  {
   "cell_type": "code",
   "execution_count": null,
   "metadata": {
    "collapsed": true
   },
   "outputs": [],
   "source": [
    "def carafuncaobatalha(caravida,seuataque,caradefesa):\n",
    "    caravida = caravida - (seuataque - caradefesa)\n",
    "    return caravida"
   ]
  },
  {
   "cell_type": "code",
   "execution_count": 18,
   "metadata": {
    "collapsed": false
   },
   "outputs": [
    {
     "name": "stdout",
     "output_type": "stream",
     "text": [
      "escolha: dormir ou passear?passear\n",
      "escolha: dormir ou passear?dormir\n",
      "Boa noite\n"
     ]
    }
   ],
   "source": [
    "x = 0\n",
    "\n",
    "#Lopping infinito\n",
    "while x == 0:\n",
    "  opcao = input('escolha: dormir ou passear?')\n",
    "  if opcao == 'passear':\n",
    "    inimigo = rdm.randint(0,7)\n",
    "    suavida = suapokedex[0]['PS']*3\n",
    "    seuataque = suapokedex[0]['ataque']\n",
    "    suadefesa = suapokedex[0]['defesa']\n",
    "    caravida = pokedex1[inimigo]['PS']*3\n",
    "    caraataque = pokedex1[inimigo]['ataque']\n",
    "    caradefesa = pokedex1[inimigo]['defesa']\n",
    "  elif opcao == 'dormir':\n",
    "    print('Boa noite')\n",
    "    x = 1"
   ]
  },
  {
   "cell_type": "code",
   "execution_count": null,
   "metadata": {
    "collapsed": true
   },
   "outputs": [],
   "source": []
  }
 ],
 "metadata": {
  "kernelspec": {
   "display_name": "Python 3",
   "language": "python",
   "name": "python3"
  },
  "language_info": {
   "codemirror_mode": {
    "name": "ipython",
    "version": 3
   },
   "file_extension": ".py",
   "mimetype": "text/x-python",
   "name": "python",
   "nbconvert_exporter": "python",
   "pygments_lexer": "ipython3",
   "version": "3.6.0"
  }
 },
 "nbformat": 4,
 "nbformat_minor": 2
}
